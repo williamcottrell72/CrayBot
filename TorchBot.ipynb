{
 "cells": [
  {
   "cell_type": "code",
   "execution_count": 1,
   "metadata": {},
   "outputs": [],
   "source": [
    "import torch\n",
    "import torch.nn.functional as F\n",
    "import torch.optim as optim\n",
    "import numpy as np\n",
    "import pickle as pkl\n",
    "import torch.autograd as autograd\n",
    "import torch.nn as nn\n",
    "import os\n",
    "import gensim\n",
    "import nltk\n",
    "import random\n",
    "from sklearn.manifold import TSNE\n",
    "from sklearn.cluster import KMeans\n",
    "import enchant\n",
    "import matplotlib.pyplot as plt\n",
    "from nltk import WordNetLemmatizer, word_tokenize, bigrams, ngrams, RegexpTokenizer\n",
    "lemmatize = WordNetLemmatizer()\n",
    "%matplotlib inline"
   ]
  },
  {
   "cell_type": "markdown",
   "metadata": {},
   "source": [
    "We want to load in a document of the followingn form.  Each element of the list may be a full-length text."
   ]
  },
  {
   "cell_type": "code",
   "execution_count": 2,
   "metadata": {},
   "outputs": [],
   "source": [
    "# Example:\n",
    "\n",
    "documents = [\"Human machine interface for lab abc computer applications\",\n",
    "             \"A survey of user opinion of computer system response time\",\n",
    "             \"The EPS user interface management system\",\n",
    "             \"System and human system engineering testing of EPS\",\n",
    "              \"Relation of user perceived response time to error measurement\",\n",
    "              \"The generation of random binary unordered trees\",\n",
    "              \"The intersection graph of paths in trees\",\n",
    "              \"Graph minors IV Widths of trees and well quasi ordering\",\n",
    "              \"Graph minors A survey\"]"
   ]
  },
  {
   "cell_type": "code",
   "execution_count": 3,
   "metadata": {},
   "outputs": [],
   "source": [
    "def clean_string(text):\n",
    "    tokens = word_tokenize(text)\n",
    "    clean_tokens = [lemmatize.lemmatize(token.lower().strip()) for token in tokens]\n",
    "    return ' '.join(clean_tokens)\n",
    "\n",
    "\n",
    "\n",
    "def clean_corpus(documents):\n",
    "    return [clean_string(doc) for doc in documents]  "
   ]
  },
  {
   "cell_type": "code",
   "execution_count": 4,
   "metadata": {},
   "outputs": [],
   "source": [
    "with open(\"text_files/brothers_karamazov.txt\", \"r\") as myfile:\n",
    "    bk_data=myfile.readlines()\n",
    "    \n",
    "# Here, string is just one long clean text string.    \n",
    "\n",
    "string =' '.join(clean_corpus(bk_data))"
   ]
  },
  {
   "cell_type": "markdown",
   "metadata": {},
   "source": [
    "Now let's load in some data and create a bot!  First we need to define an encoder.  We must make sure that the decoder knows all the words we use in the training data, or else somehow deal with the unknown words.  At the moment, I'm just going to get around this by building the encoder on the data used later for training.  This is not the optimal solution and I plan to return to this issue later.  Let's make our first bot with the Brothers Karamazov. "
   ]
  },
  {
   "cell_type": "markdown",
   "metadata": {},
   "source": [
    "# craycray\n",
    "### Number one Dostoevsky fan."
   ]
  },
  {
   "cell_type": "code",
   "execution_count": 26,
   "metadata": {},
   "outputs": [],
   "source": [
    "google_vec_file = '~/Downloads/GoogleNews-vectors-negative300.bin'\n",
    "encoder = gensim.models.KeyedVectors.load_word2vec_format(google_vec_file, binary=True)\n",
    "w2v_bk=gensim.models.Word2Vec([string.split()], size=300, window=5, min_count=1, workers=4,sg=1)"
   ]
  },
  {
   "cell_type": "markdown",
   "metadata": {},
   "source": [
    "Now we instantiate a bot."
   ]
  },
  {
   "cell_type": "code",
   "execution_count": 27,
   "metadata": {},
   "outputs": [],
   "source": [
    "craycray=CRAYBOT(sent_length=10,n_samples=10000,hidden_size=300,n_layers=3,max_iter=100,encoder=w2v_bk)"
   ]
  },
  {
   "cell_type": "markdown",
   "metadata": {},
   "source": [
    "Let's feed the bot some training data."
   ]
  },
  {
   "cell_type": "code",
   "execution_count": 28,
   "metadata": {},
   "outputs": [],
   "source": [
    "craycray.fit(string)"
   ]
  },
  {
   "cell_type": "code",
   "execution_count": 297,
   "metadata": {},
   "outputs": [
    {
     "name": "stderr",
     "output_type": "stream",
     "text": [
      "/Users/williamcottrell72/anaconda3/lib/python3.6/site-packages/ipykernel_launcher.py:145: UserWarning: Implicit dimension choice for softmax has been deprecated. Change the call to include dim=X as an argument.\n"
     ]
    },
    {
     "data": {
      "text/plain": [
       "'You are good turned i , prominently i and'"
      ]
     },
     "execution_count": 297,
     "metadata": {},
     "output_type": "execute_result"
    }
   ],
   "source": [
    "craycray.predict(['You are'],7)"
   ]
  },
  {
   "cell_type": "markdown",
   "metadata": {},
   "source": [
    "Note that CRAYBOT stores the cross-entropy loss so we can make a plot in the end."
   ]
  },
  {
   "cell_type": "code",
   "execution_count": 38,
   "metadata": {},
   "outputs": [
    {
     "data": {
      "image/png": "[encoded data removed]",
      "text/plain": [
       "<Figure size 432x288 with 1 Axes>"
      ]
     },
     "metadata": {},
     "output_type": "display_data"
    }
   ],
   "source": [
    "plt.scatter(range(100),craycray.losses)\n",
    "plt.xlabel('Iteration')\n",
    "plt.ylabel('Cross Entropy')\n",
    "plt.xlim(0,100)\n",
    "plt.ylim(0,10)\n",
    "plt.show()"
   ]
  },
  {
   "cell_type": "markdown",
   "metadata": {},
   "source": [
    "## Let's try some crazy data!"
   ]
  },
  {
   "cell_type": "markdown",
   "metadata": {},
   "source": [
    "# Conspiro_Bot:  \n",
    "### Likes to talk about the illuminati!"
   ]
  },
  {
   "cell_type": "code",
   "execution_count": 51,
   "metadata": {},
   "outputs": [],
   "source": [
    "with open('text_files/Bloodlines_of_the_illuminati__1995.txt','r') as f:\n",
    "    illuminati=f.readlines()"
   ]
  },
  {
   "cell_type": "code",
   "execution_count": 75,
   "metadata": {},
   "outputs": [],
   "source": [
    "# Just a long cleaned string....\n",
    "\n",
    "string_ill =' '.join(clean_corpus(illuminati))"
   ]
  },
  {
   "cell_type": "code",
   "execution_count": 199,
   "metadata": {},
   "outputs": [],
   "source": [
    "w2v_ill=gensim.models.Word2Vec([string_ill.split()], size=100, window=5, min_count=1, workers=4,sg=1)\n",
    "conspiro_bot=CRAYBOT(sent_length=10,n_samples=1000,hidden_size=100,n_layers=4,max_iter=60,encoder=w2v_ill)"
   ]
  },
  {
   "cell_type": "code",
   "execution_count": 200,
   "metadata": {},
   "outputs": [],
   "source": [
    "conspiro_bot.fit(string_ill)"
   ]
  },
  {
   "cell_type": "code",
   "execution_count": 204,
   "metadata": {},
   "outputs": [
    {
     "name": "stderr",
     "output_type": "stream",
     "text": [
      "/Users/williamcottrell72/anaconda3/lib/python3.6/site-packages/ipykernel_launcher.py:145: UserWarning: Implicit dimension choice for softmax has been deprecated. Change the call to include dim=X as an argument.\n"
     ]
    },
    {
     "data": {
      "text/plain": [
       "'he is difficulty them to jeebies situated'"
      ]
     },
     "execution_count": 204,
     "metadata": {},
     "output_type": "execute_result"
    }
   ],
   "source": [
    "conspiro_bot.predict(['he is'],5)"
   ]
  },
  {
   "cell_type": "code",
   "execution_count": 181,
   "metadata": {},
   "outputs": [
    {
     "data": {
      "image/png": "[encoded data removed]",
      "text/plain": [
       "<Figure size 432x288 with 1 Axes>"
      ]
     },
     "metadata": {},
     "output_type": "display_data"
    }
   ],
   "source": [
    "plt.scatter(range(60),conspiro_bot.losses)\n",
    "plt.xlabel('Iteration')\n",
    "plt.ylabel('Cross Entropy')\n",
    "plt.xlim(0,60)\n",
    "plt.ylim(0,10)\n",
    "plt.show()"
   ]
  },
  {
   "cell_type": "markdown",
   "metadata": {},
   "source": [
    "# Botbot\n",
    "### His only teachers are netizens"
   ]
  },
  {
   "cell_type": "code",
   "execution_count": 92,
   "metadata": {},
   "outputs": [],
   "source": [
    "with open('text_files/messed_np_vecs.pkl','rb') as f:\n",
    "    messed_np_vecs=pkl.load(f)\n",
    "    \n",
    "with open('text_files/km.pkl','rb') as f:\n",
    "    km=pkl.load(f)\n",
    "    \n",
    "with open('text_files/messed','rb') as f:\n",
    "    messed=pkl.load(f)"
   ]
  },
  {
   "cell_type": "code",
   "execution_count": 98,
   "metadata": {},
   "outputs": [
    {
     "data": {
      "text/plain": [
       "array([1, 1, 1, ..., 1, 2, 1], dtype=int32)"
      ]
     },
     "execution_count": 98,
     "metadata": {},
     "output_type": "execute_result"
    }
   ],
   "source": [
    "#km.predict(messed_np_vecs)"
   ]
  },
  {
   "cell_type": "code",
   "execution_count": 99,
   "metadata": {},
   "outputs": [],
   "source": [
    "long_messages=[x for x in messed['messages'] if len(' '.join(x))>50]\n",
    "long_string=' '.join(clean_corpus(long_messages))"
   ]
  },
  {
   "cell_type": "code",
   "execution_count": 123,
   "metadata": {},
   "outputs": [],
   "source": [
    "w2v_bot=gensim.models.Word2Vec([long_string.split()], size=100, window=5, min_count=1, workers=4,sg=1)\n",
    "bot_bot=CRAYBOT(sent_length=10,n_samples=1000,hidden_size=100,n_layers=4,max_iter=60,encoder=w2v_bot)"
   ]
  },
  {
   "cell_type": "code",
   "execution_count": 121,
   "metadata": {},
   "outputs": [],
   "source": [
    "bot_bot.fit(long_string)"
   ]
  },
  {
   "cell_type": "code",
   "execution_count": 134,
   "metadata": {},
   "outputs": [
    {
     "name": "stderr",
     "output_type": "stream",
     "text": [
      "/Users/williamcottrell72/anaconda3/lib/python3.6/site-packages/ipykernel_launcher.py:145: UserWarning: Implicit dimension choice for softmax has been deprecated. Change the call to include dim=X as an argument.\n"
     ]
    },
    {
     "data": {
      "text/plain": [
       "\"More 13-åring prône rund fausse tectonics tarde interrupt l'humain //www.gofundme.com/liver-transplant-for-zahid wähler\""
      ]
     },
     "execution_count": 134,
     "metadata": {},
     "output_type": "execute_result"
    }
   ],
   "source": [
    "bot_bot.predict(['More'],10)"
   ]
  },
  {
   "cell_type": "markdown",
   "metadata": {},
   "source": [
    "# Wonder_bot\n",
    "### Big fan of Lewis Carroll"
   ]
  },
  {
   "cell_type": "code",
   "execution_count": 299,
   "metadata": {},
   "outputs": [],
   "source": [
    "with open('text_files/carroll-alice.txt','r') as f:\n",
    "    aiw=f.readlines()\n",
    "    \n",
    "string_aiw=' '.join(clean_corpus(aiw))"
   ]
  },
  {
   "cell_type": "code",
   "execution_count": 331,
   "metadata": {},
   "outputs": [],
   "source": [
    "w2v_aiw=gensim.models.Word2Vec([string_aiw.split()], size=100, window=5, min_count=1, workers=4,sg=1)\n",
    "wonder_bot=CRAYBOT(temperature = 1,sent_length=3,n_samples=10000,hidden_size=200,n_layers=4,max_iter=100,encoder=w2v_aiw)"
   ]
  },
  {
   "cell_type": "code",
   "execution_count": 332,
   "metadata": {},
   "outputs": [],
   "source": [
    "wonder_bot.fit(string_aiw)"
   ]
  },
  {
   "cell_type": "code",
   "execution_count": 341,
   "metadata": {},
   "outputs": [
    {
     "name": "stderr",
     "output_type": "stream",
     "text": [
      "/Users/williamcottrell72/anaconda3/lib/python3.6/site-packages/ipykernel_launcher.py:146: UserWarning: Implicit dimension choice for softmax has been deprecated. Change the call to include dim=X as an argument.\n"
     ]
    },
    {
     "data": {
      "text/plain": [
       "\"He said that looking to and take ill ' way he know ,\""
      ]
     },
     "execution_count": 341,
     "metadata": {},
     "output_type": "execute_result"
    }
   ],
   "source": [
    "wonder_bot.predict(['He said that'],10)"
   ]
  },
  {
   "cell_type": "code",
   "execution_count": 338,
   "metadata": {},
   "outputs": [
    {
     "data": {
      "text/plain": [
       "100"
      ]
     },
     "execution_count": 338,
     "metadata": {},
     "output_type": "execute_result"
    }
   ],
   "source": [
    "len(wonder_bot.losses)"
   ]
  },
  {
   "cell_type": "code",
   "execution_count": 340,
   "metadata": {},
   "outputs": [
    {
     "data": {
      "image/png": "[encoded data removed]",
      "text/plain": [
       "<Figure size 432x288 with 1 Axes>"
      ]
     },
     "metadata": {},
     "output_type": "display_data"
    }
   ],
   "source": [
    "plt.scatter(range(wonder_bot.max_iter),wonder_bot.losses)\n",
    "plt.xlabel('Iteration')\n",
    "plt.ylabel('Cross Entropy')\n",
    "plt.xlim(0,60)\n",
    "plt.ylim(0,10)\n",
    "plt.show()"
   ]
  },
  {
   "cell_type": "markdown",
   "metadata": {},
   "source": [
    "# Craybot Clustering"
   ]
  },
  {
   "cell_type": "markdown",
   "metadata": {},
   "source": [
    "Now let's see how well KMeans does at separating out the text from different bots.  First, let's generate a bunch of labeled data.  (bot_bot since there are too many non-English phrases.)"
   ]
  },
  {
   "cell_type": "code",
   "execution_count": 188,
   "metadata": {},
   "outputs": [],
   "source": [
    "full_string = string+ ' '+string_ill+' '+string_aiw\n",
    "w2v_full=gensim.models.Word2Vec([full_string.split()], size=100, window=5, min_count=1, workers=4,sg=1)"
   ]
  },
  {
   "cell_type": "markdown",
   "metadata": {},
   "source": [
    "Now let's make a 1000 sentences for each bot."
   ]
  },
  {
   "cell_type": "code",
   "execution_count": 205,
   "metadata": {},
   "outputs": [
    {
     "name": "stderr",
     "output_type": "stream",
     "text": [
      "/Users/williamcottrell72/anaconda3/lib/python3.6/site-packages/ipykernel_launcher.py:145: UserWarning: Implicit dimension choice for softmax has been deprecated. Change the call to include dim=X as an argument.\n"
     ]
    }
   ],
   "source": [
    "cray_data=[]\n",
    "wonder_data=[]\n",
    "conspiro_data=[]\n",
    "for _ in range(1000):\n",
    "    cray_new=craycray.predict(['You are'],10)\n",
    "    wonder_new=wonder_bot.predict(['You are'],10)\n",
    "    conspiro_new=conspiro_bot.predict(['You are'],10)\n",
    "    cray_data.append([cray_new,1])\n",
    "    wonder_data.append([wonder_new,2])\n",
    "    conspiro_data.append([conspiro_new,3])\n"
   ]
  },
  {
   "cell_type": "code",
   "execution_count": 242,
   "metadata": {},
   "outputs": [],
   "source": [
    "with open('data/markov_data.pkl','rb') as f:\n",
    "    markov_data=pkl.load(f)"
   ]
  },
  {
   "cell_type": "markdown",
   "metadata": {},
   "source": [
    "We need a helper function in order to convert each sentence to a single vector.  I'm going to do something very naive and just average the vectors for each word.  The following function will help."
   ]
  },
  {
   "cell_type": "code",
   "execution_count": 208,
   "metadata": {},
   "outputs": [],
   "source": [
    "def get_doc_vec(words, model):\n",
    "    good_words = []\n",
    "    for word in words:\n",
    "        # Words not in the original model will fail\n",
    "        try:\n",
    "            if model.wv[word] is not None:\n",
    "                good_words.append(word)\n",
    "        except:\n",
    "            continue\n",
    "    # If no words are in the original model\n",
    "    if len(good_words) == 0:\n",
    "        return None\n",
    "    # Return the mean of the vectors for all the good words\n",
    "    return model.wv[good_words].mean(axis=0)"
   ]
  },
  {
   "cell_type": "code",
   "execution_count": 239,
   "metadata": {},
   "outputs": [],
   "source": [
    "cray_vecs=np.vstack([[get_doc_vec(x[0],w2v_full),x[1]] for x in cray_data ])\n",
    "wonder_vecs=np.vstack([[get_doc_vec(x[0],w2v_full),x[1]] for x in wonder_data ])\n",
    "conspiro_vecs=np.vstack([[get_doc_vec(x[0],w2v_full),x[1]] for x in conspiro_data ])"
   ]
  },
  {
   "cell_type": "code",
   "execution_count": 243,
   "metadata": {},
   "outputs": [],
   "source": [
    "markov_vecs=np.vstack([[get_doc_vec(x[0],w2v_full),x[1]] for x in markov_data ])"
   ]
  },
  {
   "cell_type": "code",
   "execution_count": 241,
   "metadata": {},
   "outputs": [
    {
     "data": {
      "text/plain": [
       "1000"
      ]
     },
     "execution_count": 241,
     "metadata": {},
     "output_type": "execute_result"
    }
   ],
   "source": [
    "len(conspiro_vecs[:,0])"
   ]
  },
  {
   "cell_type": "markdown",
   "metadata": {},
   "source": [
    "Now let's combine everything into a big dataset..."
   ]
  },
  {
   "cell_type": "code",
   "execution_count": 247,
   "metadata": {},
   "outputs": [],
   "source": [
    "all_vecs=np.vstack([markov_vecs,cray_vecs,wonder_vecs,conspiro_vecs])\n",
    "raw_vecs=all_vecs[:,0]\n",
    "labels=all_vecs[:,1]"
   ]
  },
  {
   "cell_type": "code",
   "execution_count": 276,
   "metadata": {},
   "outputs": [],
   "source": [
    "raw_vecs_test=np.vstack([[x[0],x[1]] for x in all_vecs if x[0] is not None])"
   ]
  },
  {
   "cell_type": "code",
   "execution_count": 291,
   "metadata": {},
   "outputs": [
    {
     "data": {
      "text/plain": [
       "(3992,)"
      ]
     },
     "execution_count": 291,
     "metadata": {},
     "output_type": "execute_result"
    }
   ],
   "source": [
    "labels2=raw_vecs_test[:,1]\n",
    "labels2.reshape(-1"
   ]
  },
  {
   "cell_type": "code",
   "execution_count": 262,
   "metadata": {},
   "outputs": [],
   "source": [
    "raw_vecs2=np.vstack([x for x in raw_vecs if x is not None])"
   ]
  },
  {
   "cell_type": "code",
   "execution_count": 263,
   "metadata": {},
   "outputs": [],
   "source": [
    "km=KMeans(n_clusters=4)\n",
    "#small_sample=np.random.choice(range(len(test)),1000,replace=False)\n",
    "X_embedded=TSNE(n_components=2, perplexity=50).fit_transform(raw_vecs2)"
   ]
  },
  {
   "cell_type": "code",
   "execution_count": 271,
   "metadata": {},
   "outputs": [
    {
     "data": {
      "image/png": "[encoded data removed]",
      "text/plain": [
       "<Figure size 432x288 with 1 Axes>"
      ]
     },
     "metadata": {},
     "output_type": "display_data"
    }
   ],
   "source": [
    "x=X_embedded[:,0]\n",
    "y=X_embedded[:,1]\n",
    "import matplotlib.pyplot as plt\n",
    "plt.scatter(x,y,c=km.fit_predict(raw_vecs2),alpha=.1)\n",
    "plt.show()"
   ]
  },
  {
   "cell_type": "code",
   "execution_count": 292,
   "metadata": {},
   "outputs": [
    {
     "data": {
      "image/png": "[encoded data removed]",
      "text/plain": [
       "<Figure size 432x288 with 1 Axes>"
      ]
     },
     "metadata": {},
     "output_type": "display_data"
    }
   ],
   "source": [
    "x=X_embedded[:,0]\n",
    "y=X_embedded[:,1]\n",
    "import matplotlib.pyplot as plt\n",
    "plt.scatter(x,y,c=labels2,alpha=.1)\n",
    "plt.show()"
   ]
  },
  {
   "cell_type": "markdown",
   "metadata": {},
   "source": [
    "We have a bit of an issue since we don't know how KMeans internally assigned the numerical labels.  However, the fit seems to be so bad that it seems pointless to try and figure this out."
   ]
  },
  {
   "cell_type": "markdown",
   "metadata": {},
   "source": [
    "# CRAYBOT code"
   ]
  },
  {
   "cell_type": "code",
   "execution_count": 298,
   "metadata": {},
   "outputs": [],
   "source": [
    "class CRAYBOT(nn.Module):\n",
    "    \n",
    "    \n",
    "    def __init__(self,encoder,sent_length=3,n_samples=70,hidden_size=50,max_iter=10,n_layers=1,temperature=1,losses=None):\n",
    "        \n",
    "        super(CRAYBOT,self).__init__()\n",
    "        \n",
    "        self.sent_length=sent_length\n",
    "        self.n_samples=n_samples\n",
    "        self.n_layers=n_layers\n",
    "        self.hidden_size=hidden_size\n",
    "        self.max_iter=max_iter\n",
    "        self.temperature=temperature\n",
    "        size=encoder.wv['the'].shape[0]\n",
    "        self.losses=None\n",
    "        self.hidden=self.init_hidden()\n",
    "        self.lstm = nn.LSTM(size, hidden_size,n_layers,batch_first=True)\n",
    "        self.layer=nn.Linear(hidden_size,len(encoder.wv.vocab))\n",
    "        self.encoder=encoder\n",
    "        self.dropout=nn.Dropout(p=0.1)\n",
    "        self.doc=None\n",
    "    \n",
    "    def forward(self,x,hidden):\n",
    "        lstm_out, self.hidden=self.lstm(x,hidden)\n",
    "        return self.layer(lstm_out), self.hidden\n",
    "        \n",
    "        \n",
    "    def _clean(self,doc):\n",
    "        doc1=' . '.join(doc)\n",
    "        return [w.lower() for w in doc1.split()]\n",
    "        \n",
    "        \n",
    "    def word_to_idx(self,word):\n",
    "        return list(self.encoder.wv.vocab).index(word)\n",
    "        \n",
    "        \n",
    "    def index_to_word(self,n):\n",
    "        return list(self.encoder.wv.vocab)[n]\n",
    "        \n",
    "    def _make_training_set(self,doc):\n",
    "    \n",
    "        #self.n_samples=n_samples\n",
    "        \n",
    "        self.doc=doc\n",
    "        \n",
    "        clean_doc=self._clean(doc)\n",
    "        if self.encoder is None:       \n",
    "            self.encoder=gensim.models.Word2Vec([clean_doc], size=self.size, window=5, min_count=1, workers=4,sg=1)\n",
    "        sent_length=self.sent_length\n",
    "        n_samples=self.n_samples\n",
    "        \n",
    "        doc_words=' . '.join(doc).split()\n",
    "\n",
    "        \n",
    "        doc_length=len(doc_words)\n",
    "        training_examples=[]\n",
    "        X_train=[]\n",
    "        #y_train=[]\n",
    "        y_labels=[]\n",
    "        for i in range(n_samples):\n",
    "            index=random.choice(range(doc_length-self.sent_length))\n",
    "            x=doc_words[index:index+self.sent_length]\n",
    "            y=doc_words[index+1:index+self.sent_length+1]\n",
    "            next_word=self.word_to_idx(y[-1])\n",
    "            x_tensor=torch.tensor([self.encoder.wv[w.lower()] for w in x])            \n",
    "            X_train.append(x_tensor)\n",
    "            y_labels.append(next_word)\n",
    "\n",
    "        Xt=torch.cat(X_train).view(self.n_samples,self.sent_length,-1)\n",
    "        tags=torch.tensor(y_labels)\n",
    "        \n",
    "        return Xt, tags\n",
    "    \n",
    "    #Note that prep_string takes in 'doc' as a string.\n",
    "    \n",
    "    def clean_string(self,text):\n",
    "        tokens = word_tokenize(text)\n",
    "        clean_tokens = [lemmatize.lemmatize(token.lower().strip()) for token in tokens]\n",
    "        return ' '.join(clean_tokens)\n",
    "\n",
    "    def prep_string(self,doc):\n",
    "        doc1=self.clean_string(doc).split()\n",
    "        length=len(doc1)\n",
    "        x_tensor=torch.tensor([self.encoder.wv[w.lower()] for w in doc1])\n",
    "        return x_tensor.view(1,length,-1)\n",
    "            \n",
    "    \n",
    "    def _sent_to_vec(self,sent):\n",
    "        return torch.tensor([self.encoder.wv[w.lower()] for w in sent.split()])\n",
    "        \n",
    "\n",
    "    def init_hidden(self,batch_size=None):\n",
    "        # Before we've done anything, we dont have any hidden state.\n",
    "        # Refer to the Pytorch documentation to see exactly\n",
    "        # why they have this dimensionality.\n",
    "        # The axes semantics are (num_layers, minibatch_size, hidden_dim)\n",
    "        if batch_size is None:\n",
    "            return (torch.zeros(self.n_layers, self.n_samples, self.hidden_size),\n",
    "                    torch.zeros(self.n_layers, self.n_samples, self.hidden_size))\n",
    "        else:\n",
    "            return (torch.zeros(self.n_layers, batch_size, self.hidden_size),\n",
    "                    torch.zeros(self.n_layers, batch_size, self.hidden_size))\n",
    "\n",
    "\n",
    "    # 'string' should appear as a simple string.\n",
    "    \n",
    "    def fit(self,string):\n",
    "        loss_function=nn.CrossEntropyLoss()\n",
    "\n",
    "        optimizer = optim.Adam(self.parameters(),lr=.001)\n",
    "\n",
    "\n",
    "        # Note that when we call '_make_training_set' we must repackage the string into a list.\n",
    "        # In general we would pass in a list of documents, here we just have one document.\n",
    "\n",
    "        Xt,tags=self._make_training_set([string])\n",
    "        losses=[]\n",
    "\n",
    "\n",
    "        for epoch in range(self.max_iter):\n",
    "            self.hidden = self.init_hidden()\n",
    "            hidden=self.hidden\n",
    "            optimizer.zero_grad()\n",
    "            length=self.sent_length\n",
    "\n",
    "            out, hidden = self.forward(Xt,hidden)\n",
    "            out2=out[:,length-1,:]\n",
    "            loss=loss_function(out2,tags)\n",
    "            #print(float(loss.detach().numpy()))\n",
    "            losses.append(float(loss.detach().numpy()))\n",
    "            loss.backward(retain_graph=True)\n",
    "            optimizer.step()\n",
    "        self.losses=losses\n",
    "\n",
    "            \n",
    "    def predict(self,sent,n):\n",
    "        sent_string=sent[0]\n",
    "        with torch.no_grad():\n",
    "            hidden=self.init_hidden(batch_size=1)\n",
    "            length=len(sent[0].split())\n",
    "            for i in range(n):\n",
    "                x=self.prep_string(sent[0])\n",
    "                #x=clean_string(sent).split()\n",
    "                out,hidden=self.forward(x,hidden)\n",
    "                out2=out[:,length-1,:]\n",
    "                probs=F.softmax(out2.div(self.temperature)).detach().numpy()[0]\n",
    "                word=self.index_to_word(np.random.choice(len(probs),p=probs))\n",
    "                sent_string=sent_string+' '+ word\n",
    "        return sent_string"
   ]
  },
  {
   "cell_type": "code",
   "execution_count": null,
   "metadata": {},
   "outputs": [],
   "source": []
  }
 ],
 "metadata": {
  "kernelspec": {
   "display_name": "Python 3",
   "language": "python",
   "name": "python3"
  },
  "language_info": {
   "codemirror_mode": {
    "name": "ipython",
    "version": 3
   },
   "file_extension": ".py",
   "mimetype": "text/x-python",
   "name": "python",
   "nbconvert_exporter": "python",
   "pygments_lexer": "ipython3",
   "version": "3.6.5"
  }
 },
 "nbformat": 4,
 "nbformat_minor": 2
}
